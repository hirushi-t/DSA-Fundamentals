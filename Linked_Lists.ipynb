{
 "cells": [
  {
   "cell_type": "markdown",
   "metadata": {},
   "source": [
    "# Linked Lists"
   ]
  },
  {
   "cell_type": "markdown",
   "metadata": {},
   "source": [
    "### 1) Singly Linked Lists"
   ]
  },
  {
   "cell_type": "markdown",
   "metadata": {},
   "source": [
    "A linked list is a linear data structure composed of nodes. Each node contains two pieces of information: its value and a reference to the next node in the sequence. If the node is the last one in the linked list, its reference to the next node will point to Null."
   ]
  },
  {
   "cell_type": "markdown",
   "metadata": {},
   "source": [
    "3 -> 5 -> 7 -> 9 -> 11 -> 13"
   ]
  },
  {
   "cell_type": "code",
   "execution_count": 124,
   "metadata": {},
   "outputs": [],
   "source": [
    "class Node:\n",
    "    def __init__(self, val=0, next=None):\n",
    "        self.val = val\n",
    "        self.next = next\n",
    "\n",
    "class LinkedList:\n",
    "    def __init__(self):\n",
    "        self.head = None\n",
    "        \n",
    "    def create(self):\n",
    "        # Create nodes\n",
    "        node3 = Node(3)\n",
    "        node5 = Node(5)\n",
    "        node7 = Node(7)\n",
    "        node9 = Node(9)\n",
    "        node11 = Node(11)\n",
    "\n",
    "        # Connect nodes in linked list\n",
    "        self.head = node3\n",
    "        node3.next = node5\n",
    "        node5.next = node7\n",
    "        node7.next = node9\n",
    "        node9.next = node11\n",
    "\n",
    "\n",
    "    def traverse(self, curr):\n",
    "        while curr:\n",
    "            print(curr.val, '->', end=' ')\n",
    "            curr = curr.next\n",
    "        print('Null')\n",
    "        return\n",
    "    \n",
    "    def deep_copy(self, curr):\n",
    "        if not curr:\n",
    "            return None\n",
    "            \n",
    "        dummy = Node()\n",
    "        curr_new = dummy\n",
    "        curr_og = curr\n",
    "\n",
    "        while curr_og:\n",
    "            curr_new.next = Node(curr_og.val)\n",
    "            curr_og = curr_og.next\n",
    "            curr_new = curr_new.next\n",
    "\n",
    "        return dummy.next\n"
   ]
  },
  {
   "cell_type": "code",
   "execution_count": 125,
   "metadata": {},
   "outputs": [
    {
     "name": "stdout",
     "output_type": "stream",
     "text": [
      "3 -> 5 -> 7 -> 9 -> 11 -> Null\n"
     ]
    }
   ],
   "source": [
    "LL = LinkedList()\n",
    "LL.create()\n",
    "\n",
    "head = LL.head\n",
    "LL.traverse(head)"
   ]
  },
  {
   "cell_type": "code",
   "execution_count": null,
   "metadata": {},
   "outputs": [],
   "source": []
  },
  {
   "cell_type": "code",
   "execution_count": 126,
   "metadata": {},
   "outputs": [
    {
     "name": "stdout",
     "output_type": "stream",
     "text": [
      "Original:\n",
      "3 -> 5 -> 7 -> 9 -> 11 -> Null\n",
      "Reversed:\n",
      "11 -> 9 -> 7 -> 5 -> 3 -> Null\n"
     ]
    }
   ],
   "source": [
    "# Reverse the Linked List\n",
    "# Using sliding reference\n",
    "\n",
    "print('Original:') \n",
    "LL.traverse(head)\n",
    "\n",
    "# 1st node becomes last node so should point to Null\n",
    "prev = None\n",
    "curr = LL.deep_copy(head)\n",
    "\n",
    "while curr:\n",
    "    hold = curr.next\n",
    "    curr.next = prev\n",
    "    prev = curr\n",
    "    curr = hold\n",
    "    \n",
    "print('Reversed:')\n",
    "LL.traverse(prev)\n"
   ]
  },
  {
   "cell_type": "code",
   "execution_count": 130,
   "metadata": {},
   "outputs": [
    {
     "name": "stdout",
     "output_type": "stream",
     "text": [
      "3 -> 5 -> 7 -> 9 -> 11 -> Null\n",
      "Middle node value: 7\n"
     ]
    }
   ],
   "source": [
    "# Finding the middle node\n",
    "# Fast and slow pointers\n",
    "\n",
    "copy_head = LL.deep_copy(head)\n",
    "\n",
    "fast, slow = head, head\n",
    "while fast and fast.next:\n",
    "    fast = fast.next.next\n",
    "    slow = slow.next\n",
    "\n",
    "LL.traverse(head)\n",
    "print('Middle node value:', slow.val)"
   ]
  },
  {
   "cell_type": "code",
   "execution_count": null,
   "metadata": {},
   "outputs": [],
   "source": [
    "# Inserting a node at a given position\n",
    "\n",
    "def insert(i, head):\n",
    "    "
   ]
  }
 ],
 "metadata": {
  "kernelspec": {
   "display_name": "base",
   "language": "python",
   "name": "python3"
  },
  "language_info": {
   "codemirror_mode": {
    "name": "ipython",
    "version": 3
   },
   "file_extension": ".py",
   "mimetype": "text/x-python",
   "name": "python",
   "nbconvert_exporter": "python",
   "pygments_lexer": "ipython3",
   "version": "3.9.19"
  }
 },
 "nbformat": 4,
 "nbformat_minor": 2
}
