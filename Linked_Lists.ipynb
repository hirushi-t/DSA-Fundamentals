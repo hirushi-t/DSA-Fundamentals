{
 "cells": [
  {
   "cell_type": "markdown",
   "metadata": {},
   "source": [
    "# Linked Lists"
   ]
  },
  {
   "cell_type": "markdown",
   "metadata": {},
   "source": [
    "## 1) Singly Linked Lists"
   ]
  },
  {
   "cell_type": "markdown",
   "metadata": {},
   "source": [
    "A linked list is a linear data structure composed of nodes. Each node contains two pieces of information: its value and a reference to the next node in the sequence. If the node is the last one in the linked list, its reference to the next node will point to Null."
   ]
  },
  {
   "cell_type": "markdown",
   "metadata": {},
   "source": [
    "3 -> 5 -> 7 -> 9 -> 11 -> 13"
   ]
  },
  {
   "cell_type": "code",
   "execution_count": 237,
   "metadata": {},
   "outputs": [],
   "source": [
    "class Node:\n",
    "    def __init__(self, val=0, next=None):\n",
    "        self.val = val\n",
    "        self.next = next\n",
    "\n",
    "class LinkedList:\n",
    "    def __init__(self):\n",
    "        self.head = None\n",
    "        \n",
    "    def create(self):\n",
    "        # Create nodes\n",
    "        node3 = Node(3)\n",
    "        node5 = Node(5)\n",
    "        node7 = Node(7)\n",
    "        node9 = Node(9)\n",
    "        node11 = Node(11)\n",
    "\n",
    "        # Connect nodes in linked list\n",
    "        self.head = node3\n",
    "        node3.next = node5\n",
    "        node5.next = node7\n",
    "        node7.next = node9\n",
    "        node9.next = node11\n",
    "\n",
    "\n",
    "    def traverse(self, curr):\n",
    "        res = ''\n",
    "        while curr:\n",
    "            res += str(curr.val) + ' -> '\n",
    "            curr = curr.next\n",
    "        res+= 'Null'\n",
    "        print(res)\n",
    "    \n",
    "    def deep_copy(self, curr):\n",
    "        if not curr:\n",
    "            return None\n",
    "            \n",
    "        dummy = Node()\n",
    "        curr_new = dummy\n",
    "        curr_og = curr\n",
    "\n",
    "        while curr_og:\n",
    "            curr_new.next = Node(curr_og.val)\n",
    "            curr_og = curr_og.next\n",
    "            curr_new = curr_new.next\n",
    "\n",
    "        return dummy.next\n"
   ]
  },
  {
   "cell_type": "code",
   "execution_count": 238,
   "metadata": {},
   "outputs": [
    {
     "name": "stdout",
     "output_type": "stream",
     "text": [
      "3 -> 5 -> 7 -> 9 -> 11 -> Null\n"
     ]
    }
   ],
   "source": [
    "LL = LinkedList()\n",
    "LL.create()\n",
    "\n",
    "head = LL.head\n",
    "LL.traverse(head)"
   ]
  },
  {
   "cell_type": "markdown",
   "metadata": {},
   "source": [
    "#### **Reversing a Linked List**"
   ]
  },
  {
   "cell_type": "markdown",
   "metadata": {},
   "source": [
    "We can reverse the connections in a linked list by using a sliding reference to track the `prev`, `curr`, and `next` nodes. This approach is necessary because when we change the connection from `curr->next` to `curr->prev`, the original `curr->next` link is broken. Therefore, we must temporarily store the next node or we lose access to the rest of the list!"
   ]
  },
  {
   "cell_type": "code",
   "execution_count": 239,
   "metadata": {},
   "outputs": [
    {
     "name": "stdout",
     "output_type": "stream",
     "text": [
      "Original:\n",
      "3 -> 5 -> 7 -> 9 -> 11 -> Null\n",
      "Reversed:\n",
      "11 -> 9 -> 7 -> 5 -> 3 -> Null\n"
     ]
    },
    {
     "data": {
      "text/plain": [
       "(None, None)"
      ]
     },
     "execution_count": 239,
     "metadata": {},
     "output_type": "execute_result"
    }
   ],
   "source": [
    "# Reverse the Linked List\n",
    "# Using sliding reference\n",
    "\n",
    "print('Original:'), LL.traverse(head)\n",
    "\n",
    "# 1st node becomes last node so should point to Null\n",
    "prev = None\n",
    "curr = LL.deep_copy(head)\n",
    "\n",
    "while curr:\n",
    "    hold = curr.next\n",
    "    curr.next = prev\n",
    "    prev = curr\n",
    "    curr = hold\n",
    "    \n",
    "print('Reversed:'), LL.traverse(prev)\n"
   ]
  },
  {
   "cell_type": "markdown",
   "metadata": {},
   "source": [
    "#### **Finding the Middle Node**"
   ]
  },
  {
   "cell_type": "code",
   "execution_count": 240,
   "metadata": {},
   "outputs": [
    {
     "name": "stdout",
     "output_type": "stream",
     "text": [
      "3 -> 5 -> 7 -> 9 -> 11 -> Null\n",
      "None\n",
      "Middle node value: 7\n"
     ]
    }
   ],
   "source": [
    "# Finding the middle node\n",
    "# Fast and slow pointers\n",
    "\n",
    "copy_head = LL.deep_copy(head)\n",
    "\n",
    "fast, slow = head, head\n",
    "while fast and fast.next:\n",
    "    fast = fast.next.next\n",
    "    slow = slow.next\n",
    "\n",
    "print(LL.traverse(head))\n",
    "print('Middle node value:', slow.val)"
   ]
  },
  {
   "cell_type": "markdown",
   "metadata": {},
   "source": [
    "#### **Inserting a Node at a Given Position**"
   ]
  },
  {
   "cell_type": "code",
   "execution_count": 241,
   "metadata": {},
   "outputs": [
    {
     "name": "stdout",
     "output_type": "stream",
     "text": [
      "Original:\n",
      "3 -> 5 -> 7 -> 9 -> 11 -> Null\n",
      "With inserted node:\n",
      "3 -> 5 -> 20 -> 7 -> 9 -> 11 -> Null\n"
     ]
    },
    {
     "data": {
      "text/plain": [
       "(None, None)"
      ]
     },
     "execution_count": 241,
     "metadata": {},
     "output_type": "execute_result"
    }
   ],
   "source": [
    "# Inserting a node at a given position\n",
    "\n",
    "def insert(i, val, head):\n",
    "    curr = head\n",
    "    for _ in range(i-1):\n",
    "        curr = curr.next\n",
    "        if not curr:\n",
    "            return head # i>len(list)\n",
    "    hold = curr.next\n",
    "    curr.next = Node(val, next=hold)\n",
    "\n",
    "    return head\n",
    "\n",
    "copy_head = LL.deep_copy(head)\n",
    "print('Original:'), LL.traverse(copy_head)\n",
    "insert(2, 20, copy_head)\n",
    "print('With inserted node:'), LL.traverse(copy_head)\n",
    "    "
   ]
  },
  {
   "cell_type": "markdown",
   "metadata": {},
   "source": [
    "#### **Deleting a Node at a Given Position**"
   ]
  },
  {
   "cell_type": "code",
   "execution_count": 242,
   "metadata": {},
   "outputs": [
    {
     "name": "stdout",
     "output_type": "stream",
     "text": [
      "Original:\n",
      "3 -> 5 -> 7 -> 9 -> 11 -> Null\n",
      "With deleted 0th node:\n",
      "5 -> 7 -> 9 -> 11 -> Null\n",
      "With deleted 3rd node:\n",
      "5 -> 7 -> 9 -> Null\n"
     ]
    },
    {
     "data": {
      "text/plain": [
       "(None, None)"
      ]
     },
     "execution_count": 242,
     "metadata": {},
     "output_type": "execute_result"
    }
   ],
   "source": [
    "# Deleting a node from a given position\n",
    "\n",
    "def delete(i, head):\n",
    "    if not head or i<0:\n",
    "        return head\n",
    "    \n",
    "    if i == 0:\n",
    "        return head.next if head else head\n",
    "    \n",
    "    curr = head\n",
    "    for _ in range(i-1):\n",
    "        curr = curr.next\n",
    "        if not curr:\n",
    "            return head # ith node does not exist\n",
    "    curr.next = curr.next.next\n",
    "    return head\n",
    "\n",
    "copy_head = LL.deep_copy(head)\n",
    "print('Original:'), LL.traverse(copy_head)\n",
    "copy_head = delete(0, copy_head)\n",
    "print('With deleted 0th node:'), LL.traverse(copy_head)\n",
    "copy_head = delete(3, copy_head)\n",
    "print('With deleted 3rd node:'), LL.traverse(copy_head)"
   ]
  },
  {
   "cell_type": "markdown",
   "metadata": {},
   "source": [
    "### 2) Circular Linked Lists"
   ]
  },
  {
   "cell_type": "code",
   "execution_count": null,
   "metadata": {},
   "outputs": [],
   "source": []
  }
 ],
 "metadata": {
  "kernelspec": {
   "display_name": "base",
   "language": "python",
   "name": "python3"
  },
  "language_info": {
   "codemirror_mode": {
    "name": "ipython",
    "version": 3
   },
   "file_extension": ".py",
   "mimetype": "text/x-python",
   "name": "python",
   "nbconvert_exporter": "python",
   "pygments_lexer": "ipython3",
   "version": "3.9.19"
  }
 },
 "nbformat": 4,
 "nbformat_minor": 2
}
