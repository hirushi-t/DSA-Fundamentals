{
 "cells": [
  {
   "cell_type": "markdown",
   "metadata": {},
   "source": [
    "# Heaps"
   ]
  },
  {
   "cell_type": "markdown",
   "metadata": {},
   "source": [
    "A binary heap is a complete binary tree data structure represented in an **array** that satisfies a heap property,\n",
    "- **Max Heap Property**: each node is greater than or equal to its children\n",
    "- **Min Heap Property**: each node is smaller than or equal to its children"
   ]
  },
  {
   "cell_type": "markdown",
   "metadata": {},
   "source": [
    "A *complete binary tree* has the maximum amount of nodes in all the levels (but not necessarily the last)."
   ]
  },
  {
   "cell_type": "markdown",
   "metadata": {},
   "source": [
    "### Array Representation"
   ]
  },
  {
   "cell_type": "markdown",
   "metadata": {},
   "source": [
    "```plaintext\n",
    "        1\n",
    "       / \\\n",
    "      3   5\n",
    "     / \\ / \\\n",
    "    4  6 7  8\n"
   ]
  },
  {
   "cell_type": "code",
   "execution_count": null,
   "metadata": {},
   "outputs": [],
   "source": [
    "heap = [1,3,5,4,6,7,8]"
   ]
  },
  {
   "cell_type": "markdown",
   "metadata": {},
   "source": [
    "If P is the index of a parent node, and C is the index of its child node:"
   ]
  },
  {
   "cell_type": "markdown",
   "metadata": {},
   "source": [
    "$$\n",
    "P = (C - 1) // 2 \\quad \\text{   for } C \\neq 0\n",
    "$$"
   ]
  },
  {
   "cell_type": "markdown",
   "metadata": {},
   "source": [
    "$$\n",
    "C_{left} = 2P+1\n",
    "$$"
   ]
  },
  {
   "cell_type": "markdown",
   "metadata": {},
   "source": [
    "$$\n",
    "C_{right} = 2P + 2\n",
    "$$"
   ]
  },
  {
   "cell_type": "markdown",
   "metadata": {},
   "source": [
    "### Creating a Heap + Helper Functions"
   ]
  },
  {
   "cell_type": "markdown",
   "metadata": {},
   "source": [
    "Let's create a Min heap."
   ]
  },
  {
   "cell_type": "code",
   "execution_count": 12,
   "metadata": {},
   "outputs": [],
   "source": [
    "class MinHeap:\n",
    "    def __init__(self):\n",
    "        \"\"\"Initialise the min heap\"\"\"\n",
    "        self.heap = []\n",
    "    def parent(self, i):\n",
    "        \"\"\"\"Returns the index of the parent node of the node at index i, assuming this exists\"\"\"\n",
    "        return (i-1)//2\n",
    "    def left_child(self, i):\n",
    "        \"\"\"Returns the index of the left child of the node at index i, assuming this exists\"\"\"\n",
    "        return 2*i + 1\n",
    "    def right_child(self, i):\n",
    "        \"\"\"Returns the index of the right child of the node at index i, assuming this exists\"\"\"\n",
    "        return 2*i + 2\n",
    "    def has_parent(self, i):\n",
    "        \"\"\"Returns true if node at index i has a parent\"\"\"\n",
    "        return self.parent(i) >= 0\n",
    "    def has_left_child(self, i):\n",
    "        \"\"\"Returns true if node at index i had a left child\"\"\"\n",
    "        return self.left_child(i)<len(self.heap)\n",
    "    def has_right_child(self, i):\n",
    "        \"\"\"Returns true if node at index i had a right child\"\"\"\n",
    "        return self.right_child(i)<len(self.heap)\n",
    "    def swap(self, i, j):\n",
    "        \"\"\"Swaps 2 nodes\"\"\"\n",
    "        self.heap[i], self.heap[j] = self.heap[j], self.heap[i]   \n",
    "    \n",
    "    def insert(self, val):\n",
    "        i = len(self.heap)\n",
    "        self.heap.append(val)\n",
    "        while self.has_parent(i) and self.heap[self.parent(i)]>self.heap[i]:\n",
    "            parent_i = self.parent(i)\n",
    "            self.swap(parent_i, i)\n",
    "            i = parent_i"
   ]
  },
  {
   "cell_type": "markdown",
   "metadata": {},
   "source": [
    "### Inserting a Node into a Heap"
   ]
  },
  {
   "cell_type": "markdown",
   "metadata": {},
   "source": [
    "First, add the node to the end of the heap. If its value is smaller than its parent node, we swap them. This process is continued until the heap property is fully satisfied."
   ]
  },
  {
   "cell_type": "code",
   "execution_count": 24,
   "metadata": {},
   "outputs": [],
   "source": [
    "def insert(self, val):\n",
    "    \"\"\"Inserts a new node into the heap and restores the heap property\"\"\"\n",
    "    i = len(self.heap)\n",
    "    self.heap.append(val)\n",
    "    while self.has_parent(i) and self.heap[self.parent(i)]>self.heap[i]:\n",
    "        parent_i = self.parent(i)\n",
    "        self.swap(parent_i, i)\n",
    "        i = parent_i"
   ]
  },
  {
   "cell_type": "markdown",
   "metadata": {},
   "source": [
    "### Extract the Minimum Node from the Heap"
   ]
  },
  {
   "cell_type": "markdown",
   "metadata": {},
   "source": []
  }
 ],
 "metadata": {
  "kernelspec": {
   "display_name": "base",
   "language": "python",
   "name": "python3"
  },
  "language_info": {
   "codemirror_mode": {
    "name": "ipython",
    "version": 3
   },
   "file_extension": ".py",
   "mimetype": "text/x-python",
   "name": "python",
   "nbconvert_exporter": "python",
   "pygments_lexer": "ipython3",
   "version": "3.9.19"
  }
 },
 "nbformat": 4,
 "nbformat_minor": 2
}
